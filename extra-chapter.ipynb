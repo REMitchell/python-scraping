{
 "cells": [
  {
   "cell_type": "code",
   "execution_count": 24,
   "metadata": {},
   "outputs": [
    {
     "data": {
      "text/plain": [
       "[<Element tr at 0x7f1574f80368>,\n",
       " <Element tr at 0x7f1574ee6a98>,\n",
       " <Element tr at 0x7f1574ee6ae8>,\n",
       " <Element tr at 0x7f1574ee6b88>,\n",
       " <Element tr at 0x7f1574ee6bd8>,\n",
       " <Element tr at 0x7f1574ee6f98>,\n",
       " <Element tr at 0x7f1574ee6d18>,\n",
       " <Element tr at 0x7f1574f00b38>,\n",
       " <Element tr at 0x7f1574f00958>,\n",
       " <Element tr at 0x7f1574f00c28>,\n",
       " <Element tr at 0x7f1574f00db8>]"
      ]
     },
     "execution_count": 24,
     "metadata": {},
     "output_type": "execute_result"
    }
   ],
   "source": [
    "import requests\n",
    "from lxml import html\n",
    "page_html=requests.get('http://0.0.0.0:8080/Desktop/planets.html')\n",
    "tree=html.fromstring(page_html.text)\n",
    "[tr for tr in tree.xpath(\"/html/body/div/table/tr\")]"
   ]
  },
  {
   "cell_type": "code",
   "execution_count": 25,
   "metadata": {},
   "outputs": [
    {
     "data": {
      "text/plain": [
       "[b'<tr id=\"planetHeader\">\\n                <th>\\n      ',\n",
       " b'<tr id=\"planet1\" class=\"planet\" name=\"Mercury\">\\n  ',\n",
       " b'<tr id=\"planet2\" class=\"planet\" name=\"Venus\">\\n    ',\n",
       " b'<tr id=\"planet3\" class=\"planet\" name=\"Earth\">\\n    ',\n",
       " b'<tr id=\"planet4\" class=\"planet\" name=\"Mars\">\\n     ',\n",
       " b'<tr id=\"planet5\" class=\"planet\" name=\"Jupiter\">\\n  ',\n",
       " b'<tr id=\"planet6\" class=\"planet\" name=\"Saturn\">\\n   ',\n",
       " b'<tr id=\"planet7\" class=\"planet\" name=\"Uranus\">\\n   ',\n",
       " b'<tr id=\"planet8\" class=\"planet\" name=\"Neptune\">\\n  ',\n",
       " b'<tr id=\"planet9\" class=\"planet\" name=\"Pluto\">\\n    ',\n",
       " b'<tr id=\"footerRow\">\\n                <td>\\n         ']"
      ]
     },
     "execution_count": 25,
     "metadata": {},
     "output_type": "execute_result"
    }
   ],
   "source": [
    "from lxml import etree\n",
    "[etree.tostring(tr)[:50] for tr in tree.xpath(\"/html/body/div/table/tr\")]"
   ]
  },
  {
   "cell_type": "code",
   "execution_count": 12,
   "metadata": {},
   "outputs": [
    {
     "data": {
      "text/plain": [
       "[b'<tr id=\"planet1\" class=\"planet\" name=\"Mercury\">\\n  ',\n",
       " b'<tr id=\"planet2\" class=\"planet\" name=\"Venus\">\\n    ',\n",
       " b'<tr id=\"planet3\" class=\"planet\" name=\"Earth\">\\n    ',\n",
       " b'<tr id=\"planet4\" class=\"planet\" name=\"Mars\">\\n     ',\n",
       " b'<tr id=\"planet5\" class=\"planet\" name=\"Jupiter\">\\n  ',\n",
       " b'<tr id=\"planet6\" class=\"planet\" name=\"Saturn\">\\n   ',\n",
       " b'<tr id=\"planet7\" class=\"planet\" name=\"Uranus\">\\n   ',\n",
       " b'<tr id=\"planet8\" class=\"planet\" name=\"Neptune\">\\n  ',\n",
       " b'<tr id=\"planet9\" class=\"planet\" name=\"Pluto\">\\n    ']"
      ]
     },
     "execution_count": 12,
     "metadata": {},
     "output_type": "execute_result"
    }
   ],
   "source": [
    "[etree.tostring(tr)[:50] for tr in tree.xpath(\"/html/body/div/table/tr[@class='planet']\")]"
   ]
  },
  {
   "cell_type": "code",
   "execution_count": 13,
   "metadata": {},
   "outputs": [
    {
     "data": {
      "text/plain": [
       "[b'<tr id=\"planetHeader\">\\n                <th>\\n      ',\n",
       " b'<tr id=\"planet1\" class=\"planet\" name=\"Mercury\">\\n  ',\n",
       " b'<tr id=\"planet2\" class=\"planet\" name=\"Venus\">\\n    ',\n",
       " b'<tr id=\"planet3\" class=\"planet\" name=\"Earth\">\\n    ',\n",
       " b'<tr id=\"planet4\" class=\"planet\" name=\"Mars\">\\n     ',\n",
       " b'<tr id=\"planet5\" class=\"planet\" name=\"Jupiter\">\\n  ',\n",
       " b'<tr id=\"planet6\" class=\"planet\" name=\"Saturn\">\\n   ',\n",
       " b'<tr id=\"planet7\" class=\"planet\" name=\"Uranus\">\\n   ',\n",
       " b'<tr id=\"planet8\" class=\"planet\" name=\"Neptune\">\\n  ',\n",
       " b'<tr id=\"planet9\" class=\"planet\" name=\"Pluto\">\\n    ']"
      ]
     },
     "execution_count": 13,
     "metadata": {},
     "output_type": "execute_result"
    }
   ],
   "source": [
    "[etree.tostring(tr)[:50] for tr in tree.xpath(\"/html/body/div[@id='planets']/table/tr\")]"
   ]
  },
  {
   "cell_type": "code",
   "execution_count": 26,
   "metadata": {},
   "outputs": [
    {
     "data": {
      "text/plain": [
       "[b'<tr id=\"planet1\" class=\"planet\" name=\"Mercury\">\\n  ',\n",
       " b'<tr id=\"planet2\" class=\"planet\" name=\"Venus\">\\n    ',\n",
       " b'<tr id=\"planet3\" class=\"planet\" name=\"Earth\">\\n    ',\n",
       " b'<tr id=\"planet4\" class=\"planet\" name=\"Mars\">\\n     ',\n",
       " b'<tr id=\"planet5\" class=\"planet\" name=\"Jupiter\">\\n  ',\n",
       " b'<tr id=\"planet6\" class=\"planet\" name=\"Saturn\">\\n   ',\n",
       " b'<tr id=\"planet7\" class=\"planet\" name=\"Uranus\">\\n   ',\n",
       " b'<tr id=\"planet8\" class=\"planet\" name=\"Neptune\">\\n  ',\n",
       " b'<tr id=\"planet9\" class=\"planet\" name=\"Pluto\">\\n    ']"
      ]
     },
     "execution_count": 26,
     "metadata": {},
     "output_type": "execute_result"
    }
   ],
   "source": [
    "[etree.tostring(tr)[:50] for tr in tree.xpath(\"/html/body/div/table/tr[position()>1]\")]"
   ]
  },
  {
   "cell_type": "code",
   "execution_count": 19,
   "metadata": {},
   "outputs": [
    {
     "data": {
      "text/plain": [
       "[b'<table id=\"planetsTable\" border=\"1\">\\n            <',\n",
       " b'<table id=\"footerTable\">\\n            <tr id=\"foote']"
      ]
     },
     "execution_count": 19,
     "metadata": {},
     "output_type": "execute_result"
    }
   ],
   "source": [
    "[etree.tostring(tr)[:50] for tr in tree.xpath(\"/html/body/div/table/tr/parent::*\")]"
   ]
  },
  {
   "cell_type": "code",
   "execution_count": 27,
   "metadata": {},
   "outputs": [
    {
     "data": {
      "text/plain": [
       "[b'<table id=\"footerTable\">\\n            <tr id=\"foote']"
      ]
     },
     "execution_count": 27,
     "metadata": {},
     "output_type": "execute_result"
    }
   ],
   "source": [
    "[etree.tostring(tr)[:50] for tr in tree.xpath(\"/html/body/div/table/tr/parent::table[@id='footerTable']\")]"
   ]
  },
  {
   "cell_type": "code",
   "execution_count": 30,
   "metadata": {},
   "outputs": [
    {
     "data": {
      "text/plain": [
       "[b'<table id=\"planetsTable\" border=\"1\">\\n            <',\n",
       " b'<table id=\"footerTable\">\\n            <tr id=\"foote']"
      ]
     },
     "execution_count": 30,
     "metadata": {},
     "output_type": "execute_result"
    }
   ],
   "source": [
    "[etree.tostring(tr)[:50] for tr in tree.xpath(\"/html/body/div/table/tr/..\")]"
   ]
  },
  {
   "cell_type": "code",
   "execution_count": 47,
   "metadata": {},
   "outputs": [
    {
     "data": {
      "text/plain": [
       "[]"
      ]
     },
     "execution_count": 47,
     "metadata": {},
     "output_type": "execute_result"
    }
   ],
   "source": [
    "[tr for tr in tree.xpath(\"/html/body/div/table/tr[@name='earth']/td[3]/text()\"[0].strip())]"
   ]
  },
  {
   "cell_type": "code",
   "execution_count": 50,
   "metadata": {},
   "outputs": [],
   "source": [
    "for data in tree.xpath(\"/html/body/div[1]/table/tr[@name='earth']/td/text()\"):\n",
    "    print(data.strip())"
   ]
  },
  {
   "cell_type": "code",
   "execution_count": 51,
   "metadata": {},
   "outputs": [
    {
     "name": "stdout",
     "output_type": "stream",
     "text": [
      "[{'name': 'Mercury', 'mass': '0.330', 'radius': '4879', 'description': 'Named Mercurius by the Romans because it appears to move so swiftly.', 'moreinfo': 'https://en.wikipedia.org/wiki/Mercury_(planet)'}, {'name': 'Venus', 'mass': '4.87', 'radius': '12104', 'description': 'Roman name for the goddess of love. This planet was considered to be the brightest and most beautiful planet or star in the\\n                    heavens. Other civilizations have named it for their god or goddess of love/war.', 'moreinfo': 'https://en.wikipedia.org/wiki/Venus'}, {'name': 'Earth', 'mass': '5.97', 'radius': '12756', 'description': \"The name Earth comes from the Indo-European base 'er,'which produced the Germanic noun 'ertho,' and ultimately German 'erde,'\\n                    Dutch 'aarde,' Scandinavian 'jord,' and English 'earth.' Related forms include Greek 'eraze,' meaning\\n                    'on the ground,' and Welsh 'erw,' meaning 'a piece of land.'\", 'moreinfo': 'https://en.wikipedia.org/wiki/Earth'}, {'name': 'Mars', 'mass': '0.642', 'radius': '6792', 'description': 'Named by the Romans for their god of war because of its red, bloodlike color. Other civilizations also named this planet\\n                    from this attribute; for example, the Egyptians named it \"Her Desher,\" meaning \"the red one.\"', 'moreinfo': 'https://en.wikipedia.org/wiki/Mars'}, {'name': 'Jupiter', 'mass': '1898', 'radius': '142984', 'description': 'The largest and most massive of the planets was named Zeus by the Greeks and Jupiter by the Romans; he was\\n                    the most important deity in both pantheons.', 'moreinfo': 'https://en.wikipedia.org/wiki/Jupiter'}, {'name': 'Saturn', 'mass': '568', 'radius': '120536', 'description': 'Roman name for the Greek Cronos, father of Zeus/Jupiter. Other civilizations have given different names to Saturn, which\\n                    is the farthest planet from Earth that can be observed by the naked human eye. Most of its satellites\\n                    were named for Titans who, according to Greek mythology, were brothers and sisters of Saturn.', 'moreinfo': 'https://en.wikipedia.org/wiki/Saturn'}, {'name': 'Uranus', 'mass': '86.8', 'radius': '51118', 'description': 'Several astronomers, including Flamsteed and Le Monnier, had observed Uranus earlier but had recorded it as a fixed star.\\n                    Herschel tried unsuccessfully to name his discovery \"Georgian Sidus\" after George III; the planet was\\n                    named by Johann Bode in 1781 after the ancient Greek deity of the sky Uranus, the father of Kronos (Saturn)\\n                    and grandfather of Zeus (Jupiter).', 'moreinfo': 'https://en.wikipedia.org/wiki/Uranus'}, {'name': 'Neptune', 'mass': '102', 'radius': '49528', 'description': 'Neptune was \"predicted\" by John Couch Adams and Urbain Le Verrier who, independently, were able to account for the irregularities\\n                    in the motion of Uranus by correctly predicting the orbital elements of a trans- Uranian body. Using\\n                    the predicted parameters of Le Verrier (Adams never published his predictions), Johann Galle observed\\n                    the planet in 1846. Galle wanted to name the planet for Le Verrier, but that was not acceptable to the\\n                    international astronomical community. Instead, this planet is named for the Roman god of the sea.', 'moreinfo': 'https://en.wikipedia.org/wiki/Neptune'}, {'name': 'Pluto', 'mass': '0.0146', 'radius': '2370', 'description': 'Pluto was discovered at Lowell Observatory in Flagstaff, AZ during a systematic search for a trans-Neptune planet predicted\\n                    by Percival Lowell and William H. Pickering. Named after the Roman god of the underworld who was able\\n                    to render himself invisible.', 'moreinfo': 'https://en.wikipedia.org/wiki/Pluto'}]\n"
     ]
    }
   ],
   "source": [
    "from urllib.request import urlopen\n",
    "from bs4 import BeautifulSoup\n",
    "def get_planet_data():\n",
    "    html=urlopen(\"http://0.0.0.0:8080/Desktop/planets.html\")\n",
    "    bsobj=BeautifulSoup(html,'lxml')\n",
    "    planets=[]\n",
    "    planet_rows=bsobj.html.body.div.table.findAll('tr',{'class':'planet'})\n",
    "    for i in planet_rows:\n",
    "        tds=i.findAll('td')\n",
    "        planet_data=dict()\n",
    "        planet_data['name']=tds[1].text.strip()\n",
    "        planet_data['mass']=tds[2].text.strip()\n",
    "        planet_data['radius']=tds[3].text.strip()\n",
    "        planet_data['description']=tds[4].text.strip()\n",
    "        planet_data['moreinfo']=tds[5].findAll(\"a\")[0]['href'].strip()\n",
    "        planets.append(planet_data)\n",
    "    return planets\n",
    "if __name__=='__main__':\n",
    "    print(get_planet_data())"
   ]
  },
  {
   "cell_type": "code",
   "execution_count": 77,
   "metadata": {},
   "outputs": [],
   "source": [
    "import csv\n",
    "planets=get_planet_data()\n",
    "with open('planet.csv','wt',newline='') as csvFile:\n",
    "    writer=csv.writer(csvFile)\n",
    "    writer.writerow(['Name','Mass','Radius','Description','Moreinfo'])\n",
    "    for planet in planets:\n",
    "        writer.writerow([planet['name'],planet['mass'],planet['radius'],planet['description'],planet['moreinfo']])"
   ]
  },
  {
   "cell_type": "code",
   "execution_count": 68,
   "metadata": {},
   "outputs": [
    {
     "name": "stdout",
     "output_type": "stream",
     "text": [
      "['Name', 'Mass', 'Radius', 'Description', 'Moreinfo']\n",
      "['Mercury', '0.330', '4879', 'Named Mercurius by the Romans because it appears to move so swiftly.', 'https://en.wikipedia.org/wiki/Mercury_(planet)']\n",
      "['Venus', '4.87', '12104', 'Roman name for the goddess of love. This planet was considered to be the brightest and most beautiful planet or star in the                    heavens. Other civilizations have named it for their god or goddess of love/war.', 'https://en.wikipedia.org/wiki/Venus']\n",
      "['Earth', '5.97', '12756', \"The name Earth comes from the Indo-European base 'er,'which produced the Germanic noun 'ertho,' and ultimately German 'erde,'                    Dutch 'aarde,' Scandinavian 'jord,' and English 'earth.' Related forms include Greek 'eraze,' meaning                    'on the ground,' and Welsh 'erw,' meaning 'a piece of land.'\", 'https://en.wikipedia.org/wiki/Earth']\n",
      "['Mars', '0.642', '6792', 'Named by the Romans for their god of war because of its red, bloodlike color. Other civilizations also named this planet                    from this attribute; for example, the Egyptians named it \"Her Desher,\" meaning \"the red one.\"', 'https://en.wikipedia.org/wiki/Mars']\n",
      "['Jupiter', '1898', '142984', 'The largest and most massive of the planets was named Zeus by the Greeks and Jupiter by the Romans; he was                    the most important deity in both pantheons.', 'https://en.wikipedia.org/wiki/Jupiter']\n",
      "['Saturn', '568', '120536', 'Roman name for the Greek Cronos, father of Zeus/Jupiter. Other civilizations have given different names to Saturn, which                    is the farthest planet from Earth that can be observed by the naked human eye. Most of its satellites                    were named for Titans who, according to Greek mythology, were brothers and sisters of Saturn.', 'https://en.wikipedia.org/wiki/Saturn']\n",
      "['Uranus', '86.8', '51118', 'Several astronomers, including Flamsteed and Le Monnier, had observed Uranus earlier but had recorded it as a fixed star.                    Herschel tried unsuccessfully to name his discovery \"Georgian Sidus\" after George III; the planet was                    named by Johann Bode in 1781 after the ancient Greek deity of the sky Uranus, the father of Kronos (Saturn)                    and grandfather of Zeus (Jupiter).', 'https://en.wikipedia.org/wiki/Uranus']\n",
      "['Neptune', '102', '49528', 'Neptune was \"predicted\" by John Couch Adams and Urbain Le Verrier who, independently, were able to account for the irregularities                    in the motion of Uranus by correctly predicting the orbital elements of a trans- Uranian body. Using                    the predicted parameters of Le Verrier (Adams never published his predictions), Johann Galle observed                    the planet in 1846. Galle wanted to name the planet for Le Verrier, but that was not acceptable to the                    international astronomical community. Instead, this planet is named for the Roman god of the sea.', 'https://en.wikipedia.org/wiki/Neptune']\n",
      "['Pluto', '0.0146', '2370', 'Pluto was discovered at Lowell Observatory in Flagstaff, AZ during a systematic search for a trans-Neptune planet predicted                    by Percival Lowell and William H. Pickering. Named after the Roman god of the underworld who was able                    to render himself invisible.', 'https://en.wikipedia.org/wiki/Pluto']\n"
     ]
    }
   ],
   "source": [
    "import requests\n",
    "import csv\n",
    "planets_data=requests.get('http://0.0.0.0:8080/Desktop/planet.csv')\n",
    "planets=planets_data.text.split('\\n')\n",
    "reader=csv.reader(planets,delimiter=',',quotechar='\"')\n",
    "lines=[line for line in reader][:-1]\n",
    "for line in lines:\n",
    "    print(line)"
   ]
  },
  {
   "cell_type": "code",
   "execution_count": 87,
   "metadata": {},
   "outputs": [],
   "source": [
    "import pandas as pd\n",
    "planets=get_planet_data()\n",
    "planets_df=pd.DataFrame(planets).set_index('name')\n",
    "planets_df.to_csv(\"planets_pandas.csv\")"
   ]
  },
  {
   "cell_type": "code",
   "execution_count": 88,
   "metadata": {},
   "outputs": [
    {
     "name": "stdout",
     "output_type": "stream",
     "text": [
      "                                               description    mass  \\\n",
      "name                                                                 \n",
      "Mercury  Named Mercurius by the Romans because it appea...   0.330   \n",
      "Venus    Roman name for the goddess of love. This plane...    4.87   \n",
      "Earth    The name Earth comes from the Indo-European ba...    5.97   \n",
      "Mars     Named by the Romans for their god of war becau...   0.642   \n",
      "Jupiter  The largest and most massive of the planets wa...    1898   \n",
      "Saturn   Roman name for the Greek Cronos, father of Zeu...     568   \n",
      "Uranus   Several astronomers, including Flamsteed and L...    86.8   \n",
      "Neptune  Neptune was \"predicted\" by John Couch Adams an...     102   \n",
      "Pluto    Pluto was discovered at Lowell Observatory in ...  0.0146   \n",
      "\n",
      "                                               moreinfo  radius  \n",
      "name                                                             \n",
      "Mercury  https://en.wikipedia.org/wiki/Mercury_(planet)    4879  \n",
      "Venus               https://en.wikipedia.org/wiki/Venus   12104  \n",
      "Earth               https://en.wikipedia.org/wiki/Earth   12756  \n",
      "Mars                 https://en.wikipedia.org/wiki/Mars    6792  \n",
      "Jupiter           https://en.wikipedia.org/wiki/Jupiter  142984  \n",
      "Saturn             https://en.wikipedia.org/wiki/Saturn  120536  \n",
      "Uranus             https://en.wikipedia.org/wiki/Uranus   51118  \n",
      "Neptune           https://en.wikipedia.org/wiki/Neptune   49528  \n",
      "Pluto               https://en.wikipedia.org/wiki/Pluto    2370  \n"
     ]
    }
   ],
   "source": [
    "import pandas as pd\n",
    "planet_df=pd.read_csv(\"planets_pandas.csv\",index_col='name')\n",
    "print(planets_df)"
   ]
  },
  {
   "cell_type": "code",
   "execution_count": 89,
   "metadata": {},
   "outputs": [],
   "source": [
    "import json\n",
    "planets=get_planet_data()\n",
    "with open('planets.json','wt') as jsonfile:\n",
    "    json.dump(planets,jsonfile,indent=4)"
   ]
  },
  {
   "cell_type": "code",
   "execution_count": 91,
   "metadata": {},
   "outputs": [
    {
     "name": "stdout",
     "output_type": "stream",
     "text": [
      "[{'name': 'Mercury', 'mass': '0.330', 'radius': '4879', 'description': 'Named Mercurius by the Romans because it appears to move so swiftly.', 'moreinfo': 'https://en.wikipedia.org/wiki/Mercury_(planet)'}, {'name': 'Venus', 'mass': '4.87', 'radius': '12104', 'description': 'Roman name for the goddess of love. This planet was considered to be the brightest and most beautiful planet or star in the\\n                    heavens. Other civilizations have named it for their god or goddess of love/war.', 'moreinfo': 'https://en.wikipedia.org/wiki/Venus'}, {'name': 'Earth', 'mass': '5.97', 'radius': '12756', 'description': \"The name Earth comes from the Indo-European base 'er,'which produced the Germanic noun 'ertho,' and ultimately German 'erde,'\\n                    Dutch 'aarde,' Scandinavian 'jord,' and English 'earth.' Related forms include Greek 'eraze,' meaning\\n                    'on the ground,' and Welsh 'erw,' meaning 'a piece of land.'\", 'moreinfo': 'https://en.wikipedia.org/wiki/Earth'}, {'name': 'Mars', 'mass': '0.642', 'radius': '6792', 'description': 'Named by the Romans for their god of war because of its red, bloodlike color. Other civilizations also named this planet\\n                    from this attribute; for example, the Egyptians named it \"Her Desher,\" meaning \"the red one.\"', 'moreinfo': 'https://en.wikipedia.org/wiki/Mars'}, {'name': 'Jupiter', 'mass': '1898', 'radius': '142984', 'description': 'The largest and most massive of the planets was named Zeus by the Greeks and Jupiter by the Romans; he was\\n                    the most important deity in both pantheons.', 'moreinfo': 'https://en.wikipedia.org/wiki/Jupiter'}, {'name': 'Saturn', 'mass': '568', 'radius': '120536', 'description': 'Roman name for the Greek Cronos, father of Zeus/Jupiter. Other civilizations have given different names to Saturn, which\\n                    is the farthest planet from Earth that can be observed by the naked human eye. Most of its satellites\\n                    were named for Titans who, according to Greek mythology, were brothers and sisters of Saturn.', 'moreinfo': 'https://en.wikipedia.org/wiki/Saturn'}, {'name': 'Uranus', 'mass': '86.8', 'radius': '51118', 'description': 'Several astronomers, including Flamsteed and Le Monnier, had observed Uranus earlier but had recorded it as a fixed star.\\n                    Herschel tried unsuccessfully to name his discovery \"Georgian Sidus\" after George III; the planet was\\n                    named by Johann Bode in 1781 after the ancient Greek deity of the sky Uranus, the father of Kronos (Saturn)\\n                    and grandfather of Zeus (Jupiter).', 'moreinfo': 'https://en.wikipedia.org/wiki/Uranus'}, {'name': 'Neptune', 'mass': '102', 'radius': '49528', 'description': 'Neptune was \"predicted\" by John Couch Adams and Urbain Le Verrier who, independently, were able to account for the irregularities\\n                    in the motion of Uranus by correctly predicting the orbital elements of a trans- Uranian body. Using\\n                    the predicted parameters of Le Verrier (Adams never published his predictions), Johann Galle observed\\n                    the planet in 1846. Galle wanted to name the planet for Le Verrier, but that was not acceptable to the\\n                    international astronomical community. Instead, this planet is named for the Roman god of the sea.', 'moreinfo': 'https://en.wikipedia.org/wiki/Neptune'}, {'name': 'Pluto', 'mass': '0.0146', 'radius': '2370', 'description': 'Pluto was discovered at Lowell Observatory in Flagstaff, AZ during a systematic search for a trans-Neptune planet predicted\\n                    by Percival Lowell and William H. Pickering. Named after the Roman god of the underworld who was able\\n                    to render himself invisible.', 'moreinfo': 'https://en.wikipedia.org/wiki/Pluto'}]\n"
     ]
    }
   ],
   "source": [
    "import requests\n",
    "import json\n",
    "planets_request=requests.get(\"http://0.0.0.0:8080/Desktop/planets.json\")\n",
    "print(json.loads(planets_request.text))"
   ]
  }
 ],
 "metadata": {
  "kernelspec": {
   "display_name": "Python 3",
   "language": "python",
   "name": "python3"
  },
  "language_info": {
   "codemirror_mode": {
    "name": "ipython",
    "version": 3
   },
   "file_extension": ".py",
   "mimetype": "text/x-python",
   "name": "python",
   "nbconvert_exporter": "python",
   "pygments_lexer": "ipython3",
   "version": "3.7.5"
  }
 },
 "nbformat": 4,
 "nbformat_minor": 2
}
